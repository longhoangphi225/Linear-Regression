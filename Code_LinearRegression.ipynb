{
  "nbformat": 4,
  "nbformat_minor": 0,
  "metadata": {
    "colab": {
      "name": "Code_Nhóm6",
      "provenance": [],
      "collapsed_sections": []
    },
    "kernelspec": {
      "name": "python3",
      "display_name": "Python 3"
    },
    "language_info": {
      "name": "python"
    }
  },
  "cells": [
    {
      "cell_type": "markdown",
      "metadata": {
        "id": "bvolcpjGOUTx"
      },
      "source": [
        "Dưới đây là những class và function mà bọn em code để xử lý bài toán."
      ]
    },
    {
      "cell_type": "code",
      "metadata": {
        "id": "kZrD68tZ2QlA",
        "colab": {
          "base_uri": "https://localhost:8080/"
        },
        "outputId": "c5f02b6f-c01c-4680-b950-af2f4583d69e"
      },
      "source": [
        "import numpy as np\n",
        "import matplotlib.pyplot as plt\n",
        "import seaborn as sns\n",
        "import pandas as pd\n",
        "from sklearn.linear_model import LinearRegression\n",
        "import statsmodels.api as sm\n",
        "from scipy.stats import f,t\n",
        "import math\n",
        "from statsmodels.stats.stattools import durbin_watson as dw\n",
        "import warnings\n",
        "warnings.filterwarnings('ignore')\n",
        "\n",
        "class Linear_Model():\n",
        "  def __init__(self, X, y):\n",
        "    def coefficients(X, y):\n",
        "      XTX_inv = np.linalg.inv(X.T @ X)\n",
        "      XTy     = X.T @ y\n",
        "      beta    = XTX_inv @ XTy\n",
        "      return beta\n",
        "    self.beta= coefficients(X, y)\n",
        "    def summary(X, y):\n",
        "      y_pred = self.predict(X)\n",
        "      MSE = np.sum(np.square(y_pred - y))\n",
        "\n",
        "      variance = MSE * (np.linalg.inv(X.T @ X).diagonal())  / (X.shape[0] -X.shape[1])\n",
        "\n",
        "      standard_error = np.sqrt(variance)\n",
        "\n",
        "      t_statistic = self.beta / standard_error\n",
        "\n",
        "      p_values = 2*(1 - t.cdf(X.shape[0], np.abs(t_statistic)))\n",
        "\n",
        "      results = pd.DataFrame({'feature': X.columns,\n",
        "                              'coefficients': self.beta,\n",
        "                              'standard_error': standard_error,\n",
        "                              't-statistic': t_statistic,\n",
        "                              'P>|t|': p_values})\n",
        "      t_alpha = t.ppf(1-(0.05/(2*(X.shape[1]))),(X.shape[0]-X.shape[1]))\n",
        "      results['[0.025'] = results['coefficients'] - results['standard_error']*np.sqrt(t_alpha*(X.shape[1]))\n",
        "      results['0.975]'] = results['coefficients'] + results['standard_error']*np.sqrt(t_alpha*(X.shape[1]))\n",
        "      results.set_index('feature')\n",
        "      RSS = np.sum(np.square(y_pred - y))\n",
        "      TSS = np.sum(np.square(y - np.mean(y)))\n",
        "      r_squared = 1 -RSS/TSS\n",
        "      f_stat = (TSS-RSS)/X.shape[1]*(X.shape[0] - X.shape[1] - 1)/RSS\n",
        "      return results, r_squared, f_stat\n",
        "    self.summary, self.r_squared, self.f_stat = summary(X,y)\n",
        "    self.eps_hat = self.predict(X) - y\n",
        "  def predict(self, X):\n",
        "    return X @ self.beta\n",
        "  def f_test(self):\n",
        "    return bool(self.f_stat > f.ppf(q=1-.01, dfn=X.shape[1], dfd=X.shape[0]-X.shape[1]))\n",
        "  def t_test(self):\n",
        "    I_H = np.array(X @ np.linalg.inv(X.T @ X)) @ X.T\n",
        "    for i in range(len(I_H)):\n",
        "      I_H[i][i] -= 1\n",
        "    I_H = -1*I_H\n",
        "    Lambda, P = np.linalg.eig(I_H)\n",
        "    for i in range(len(Lambda)):\n",
        "      Lambda[i] = round(Lambda[i].real)\n",
        "      for j in range(len(P[0])):\n",
        "        P[i][j] = P[i][j].real\n",
        "    Lambda = np.array(Lambda, dtype='int64')\n",
        "    P = np.array(P, dtype='float64')\n",
        "    i = 0\n",
        "    j = len(Lambda)-1\n",
        "    while i <= j:\n",
        "      while Lambda[i] != 0:\n",
        "        i += 1\n",
        "      while Lambda[j] != 1:\n",
        "        j -= 1\n",
        "      if i <= j:\n",
        "        Lambda[i], Lambda[j] = Lambda[j], Lambda[i]\n",
        "        P[i], P[j] = P[j], P[i]\n",
        "        i += 1\n",
        "        j -= 1\n",
        "    eps_star = P.T @ self.eps_hat\n",
        "    eps_star_hat = np.sum(eps_star/(len(Lambda)-len(self.beta)-1))\n",
        "    t_const = np.sqrt((len(Lambda)-len(self.beta)-1))*eps_star_hat\n",
        "    t_const = t_const/np.sqrt((np.sum((eps_star-eps_star_hat)**2))/(len(Lambda)-len(self.beta)-2))\n",
        "    return t_const > t.ppf(1-0.025, (len(Lambda)-len(self.beta)-2))"
      ],
      "execution_count": null,
      "outputs": [
        {
          "output_type": "stream",
          "text": [
            "/usr/local/lib/python3.7/dist-packages/statsmodels/tools/_testing.py:19: FutureWarning: pandas.util.testing is deprecated. Use the functions in the public API at pandas.testing instead.\n",
            "  import pandas.util.testing as tm\n"
          ],
          "name": "stderr"
        }
      ]
    },
    {
      "cell_type": "markdown",
      "metadata": {
        "id": "sMax9yqERkz7"
      },
      "source": [
        "## I. Dữ liệu Advertising\n",
        "\n",
        "### Mô tả\n",
        "\n",
        "Tập dữ liệu bao gồm doanh số ở 200 thị trường khác nhau, cùng với ngân sách quảng cáo ở mỗi thị trường đó trên 3 phương tiện truyền thông: \n",
        "\n",
        " - **TV**: Ngân sách dùng để quảng cáo trên TV.\n",
        " - **Radio**: Ngân sách dùng để quảng cáo trên Radio.\n",
        " - **Newspaper**: Ngân sách dùng để quảng cáo trên Báo.\n",
        " - **Sales**: Doanh số thu được. \n",
        "\n",
        "**Sales** là biến Response. Chúng ta sẽ xây dựng mô hình dự đoán **Sales** dựa trên ngân sách đầu tư cho quảng cáo bằng cách trả lời các câu hỏi:\n",
        "\n",
        "0.   Có sự cộng tuyến giữa **TV**, **Radio**, **Newspaper** không?\n",
        "1.   Có mối liên hệ nào giữa doanh số và ngân sách quảng cáo hay không?\n",
        "2.   Mối liên hệ này chặt chẽ cỡ nào?\n",
        "3.   Kênh quảng cáo nào đóng góp vào doanh số?\n",
        "4.   Liệu có ảnh hưởng cộng năng giữa các kênh quảng cáo hay không?\n",
        "\n",
        "\n",
        "\n",
        "\n"
      ]
    },
    {
      "cell_type": "code",
      "metadata": {
        "id": "rKSgtnB437Yv",
        "colab": {
          "base_uri": "https://localhost:8080/",
          "height": 198
        },
        "outputId": "f809375d-f19e-4625-af73-7ef8b6b5b3b2"
      },
      "source": [
        "data = pd.read_csv(\"/content/Advertising.csv\")\n",
        "data.drop('Unnamed: 0', axis=1, inplace=True)\n",
        "data.head()"
      ],
      "execution_count": null,
      "outputs": [
        {
          "output_type": "execute_result",
          "data": {
            "text/html": [
              "<div>\n",
              "<style scoped>\n",
              "    .dataframe tbody tr th:only-of-type {\n",
              "        vertical-align: middle;\n",
              "    }\n",
              "\n",
              "    .dataframe tbody tr th {\n",
              "        vertical-align: top;\n",
              "    }\n",
              "\n",
              "    .dataframe thead th {\n",
              "        text-align: right;\n",
              "    }\n",
              "</style>\n",
              "<table border=\"1\" class=\"dataframe\">\n",
              "  <thead>\n",
              "    <tr style=\"text-align: right;\">\n",
              "      <th></th>\n",
              "      <th>TV</th>\n",
              "      <th>Radio</th>\n",
              "      <th>Newspaper</th>\n",
              "      <th>Sales</th>\n",
              "    </tr>\n",
              "  </thead>\n",
              "  <tbody>\n",
              "    <tr>\n",
              "      <th>0</th>\n",
              "      <td>230.1</td>\n",
              "      <td>37.8</td>\n",
              "      <td>69.2</td>\n",
              "      <td>22.1</td>\n",
              "    </tr>\n",
              "    <tr>\n",
              "      <th>1</th>\n",
              "      <td>44.5</td>\n",
              "      <td>39.3</td>\n",
              "      <td>45.1</td>\n",
              "      <td>10.4</td>\n",
              "    </tr>\n",
              "    <tr>\n",
              "      <th>2</th>\n",
              "      <td>17.2</td>\n",
              "      <td>45.9</td>\n",
              "      <td>69.3</td>\n",
              "      <td>9.3</td>\n",
              "    </tr>\n",
              "    <tr>\n",
              "      <th>3</th>\n",
              "      <td>151.5</td>\n",
              "      <td>41.3</td>\n",
              "      <td>58.5</td>\n",
              "      <td>18.5</td>\n",
              "    </tr>\n",
              "    <tr>\n",
              "      <th>4</th>\n",
              "      <td>180.8</td>\n",
              "      <td>10.8</td>\n",
              "      <td>58.4</td>\n",
              "      <td>12.9</td>\n",
              "    </tr>\n",
              "  </tbody>\n",
              "</table>\n",
              "</div>"
            ],
            "text/plain": [
              "      TV  Radio  Newspaper  Sales\n",
              "0  230.1   37.8       69.2   22.1\n",
              "1   44.5   39.3       45.1   10.4\n",
              "2   17.2   45.9       69.3    9.3\n",
              "3  151.5   41.3       58.5   18.5\n",
              "4  180.8   10.8       58.4   12.9"
            ]
          },
          "metadata": {
            "tags": []
          },
          "execution_count": 2
        }
      ]
    },
    {
      "cell_type": "markdown",
      "metadata": {
        "id": "_mfmY5TckN4K"
      },
      "source": [
        "#0. Có sự cộng tuyến giữa **TV**, **Radio**, **Newspaper** không?*"
      ]
    },
    {
      "cell_type": "code",
      "metadata": {
        "id": "LtV_Ef-mkdJs",
        "colab": {
          "base_uri": "https://localhost:8080/",
          "height": 168
        },
        "outputId": "7538a7ba-4c31-47bf-ca28-a2a9b08a8550"
      },
      "source": [
        "data.corr()"
      ],
      "execution_count": null,
      "outputs": [
        {
          "output_type": "execute_result",
          "data": {
            "text/html": [
              "<div>\n",
              "<style scoped>\n",
              "    .dataframe tbody tr th:only-of-type {\n",
              "        vertical-align: middle;\n",
              "    }\n",
              "\n",
              "    .dataframe tbody tr th {\n",
              "        vertical-align: top;\n",
              "    }\n",
              "\n",
              "    .dataframe thead th {\n",
              "        text-align: right;\n",
              "    }\n",
              "</style>\n",
              "<table border=\"1\" class=\"dataframe\">\n",
              "  <thead>\n",
              "    <tr style=\"text-align: right;\">\n",
              "      <th></th>\n",
              "      <th>TV</th>\n",
              "      <th>Radio</th>\n",
              "      <th>Newspaper</th>\n",
              "      <th>Sales</th>\n",
              "    </tr>\n",
              "  </thead>\n",
              "  <tbody>\n",
              "    <tr>\n",
              "      <th>TV</th>\n",
              "      <td>1.000000</td>\n",
              "      <td>0.054809</td>\n",
              "      <td>0.056648</td>\n",
              "      <td>0.782224</td>\n",
              "    </tr>\n",
              "    <tr>\n",
              "      <th>Radio</th>\n",
              "      <td>0.054809</td>\n",
              "      <td>1.000000</td>\n",
              "      <td>0.354104</td>\n",
              "      <td>0.576223</td>\n",
              "    </tr>\n",
              "    <tr>\n",
              "      <th>Newspaper</th>\n",
              "      <td>0.056648</td>\n",
              "      <td>0.354104</td>\n",
              "      <td>1.000000</td>\n",
              "      <td>0.228299</td>\n",
              "    </tr>\n",
              "    <tr>\n",
              "      <th>Sales</th>\n",
              "      <td>0.782224</td>\n",
              "      <td>0.576223</td>\n",
              "      <td>0.228299</td>\n",
              "      <td>1.000000</td>\n",
              "    </tr>\n",
              "  </tbody>\n",
              "</table>\n",
              "</div>"
            ],
            "text/plain": [
              "                 TV     Radio  Newspaper     Sales\n",
              "TV         1.000000  0.054809   0.056648  0.782224\n",
              "Radio      0.054809  1.000000   0.354104  0.576223\n",
              "Newspaper  0.056648  0.354104   1.000000  0.228299\n",
              "Sales      0.782224  0.576223   0.228299  1.000000"
            ]
          },
          "metadata": {
            "tags": []
          },
          "execution_count": 3
        }
      ]
    },
    {
      "cell_type": "markdown",
      "metadata": {
        "id": "wgmsA-bJaUfS"
      },
      "source": [
        "#1. Có mối liên hệ nào giữa doanh số và ngân sách quảng cáo hay không?\n",
        "\n",
        "\n",
        "*   Xây dựng mô hình hồi quy tuyến tính đa biến sử dụng cả 3 biến **TV**, **Radio**, **Newspaper** để dự đoán **Sales**\n",
        "*   Sử dụng tiêu chuẩn *F* để kiểm tra mối liên hệ giữa **TV**, **Radio**, **Newspaper** và **Sales**\n",
        "\n"
      ]
    },
    {
      "cell_type": "code",
      "metadata": {
        "id": "rZG7eFZe4Gf_"
      },
      "source": [
        "X = data[['TV', 'Radio', 'Newspaper']]\n",
        "X = sm.add_constant(X) \n",
        "y = data['Sales']"
      ],
      "execution_count": null,
      "outputs": []
    },
    {
      "cell_type": "code",
      "metadata": {
        "id": "4TzC9mZK4H32"
      },
      "source": [
        "model = Linear_Model(X, y)"
      ],
      "execution_count": null,
      "outputs": []
    },
    {
      "cell_type": "code",
      "metadata": {
        "id": "5NL8g9E95Dhf",
        "colab": {
          "base_uri": "https://localhost:8080/",
          "height": 168
        },
        "outputId": "618497c5-b14b-466a-eef2-a63d4f0413d7"
      },
      "source": [
        "model.summary"
      ],
      "execution_count": null,
      "outputs": [
        {
          "output_type": "execute_result",
          "data": {
            "text/html": [
              "<div>\n",
              "<style scoped>\n",
              "    .dataframe tbody tr th:only-of-type {\n",
              "        vertical-align: middle;\n",
              "    }\n",
              "\n",
              "    .dataframe tbody tr th {\n",
              "        vertical-align: top;\n",
              "    }\n",
              "\n",
              "    .dataframe thead th {\n",
              "        text-align: right;\n",
              "    }\n",
              "</style>\n",
              "<table border=\"1\" class=\"dataframe\">\n",
              "  <thead>\n",
              "    <tr style=\"text-align: right;\">\n",
              "      <th></th>\n",
              "      <th>feature</th>\n",
              "      <th>coefficients</th>\n",
              "      <th>standard_error</th>\n",
              "      <th>t-statistic</th>\n",
              "      <th>P&gt;|t|</th>\n",
              "      <th>[0.025</th>\n",
              "      <th>0.975]</th>\n",
              "    </tr>\n",
              "  </thead>\n",
              "  <tbody>\n",
              "    <tr>\n",
              "      <th>0</th>\n",
              "      <td>const</td>\n",
              "      <td>2.938889</td>\n",
              "      <td>0.311908</td>\n",
              "      <td>9.422288</td>\n",
              "      <td>0.000000</td>\n",
              "      <td>1.948421</td>\n",
              "      <td>3.929358</td>\n",
              "    </tr>\n",
              "    <tr>\n",
              "      <th>1</th>\n",
              "      <td>TV</td>\n",
              "      <td>0.045765</td>\n",
              "      <td>0.001395</td>\n",
              "      <td>32.808624</td>\n",
              "      <td>0.000000</td>\n",
              "      <td>0.041335</td>\n",
              "      <td>0.050194</td>\n",
              "    </tr>\n",
              "    <tr>\n",
              "      <th>2</th>\n",
              "      <td>Radio</td>\n",
              "      <td>0.188530</td>\n",
              "      <td>0.008611</td>\n",
              "      <td>21.893496</td>\n",
              "      <td>0.000000</td>\n",
              "      <td>0.161185</td>\n",
              "      <td>0.215875</td>\n",
              "    </tr>\n",
              "    <tr>\n",
              "      <th>3</th>\n",
              "      <td>Newspaper</td>\n",
              "      <td>-0.001037</td>\n",
              "      <td>0.005871</td>\n",
              "      <td>-0.176715</td>\n",
              "      <td>0.301033</td>\n",
              "      <td>-0.019681</td>\n",
              "      <td>0.017606</td>\n",
              "    </tr>\n",
              "  </tbody>\n",
              "</table>\n",
              "</div>"
            ],
            "text/plain": [
              "     feature  coefficients  standard_error  ...     P>|t|    [0.025    0.975]\n",
              "0      const      2.938889        0.311908  ...  0.000000  1.948421  3.929358\n",
              "1         TV      0.045765        0.001395  ...  0.000000  0.041335  0.050194\n",
              "2      Radio      0.188530        0.008611  ...  0.000000  0.161185  0.215875\n",
              "3  Newspaper     -0.001037        0.005871  ...  0.301033 -0.019681  0.017606\n",
              "\n",
              "[4 rows x 7 columns]"
            ]
          },
          "metadata": {
            "tags": []
          },
          "execution_count": 6
        }
      ]
    },
    {
      "cell_type": "code",
      "metadata": {
        "id": "QgIXbLxn85y9",
        "colab": {
          "base_uri": "https://localhost:8080/"
        },
        "outputId": "e441926c-1b5b-4726-e898-04ae3b216d31"
      },
      "source": [
        "print(\"Chỉ số F_statistic: \",model.f_stat) "
      ],
      "execution_count": null,
      "outputs": [
        {
          "output_type": "stream",
          "text": [
            "Chỉ số F_statistic:  425.52086943950275\n"
          ],
          "name": "stdout"
        }
      ]
    },
    {
      "cell_type": "code",
      "metadata": {
        "id": "w_rco2cFBs6V",
        "colab": {
          "base_uri": "https://localhost:8080/"
        },
        "outputId": "e43ab794-783c-4749-945d-71f0b1be08a7"
      },
      "source": [
        "print(\"Kiểm định F:\", model.f_test()) #True tuc la beta khac 0"
      ],
      "execution_count": null,
      "outputs": [
        {
          "output_type": "stream",
          "text": [
            "Kiểm định F: True\n"
          ],
          "name": "stdout"
        }
      ]
    },
    {
      "cell_type": "markdown",
      "metadata": {
        "id": "TSaxaxwKTR71"
      },
      "source": [
        "Như vậy, tồn tại mối liên hệ nào giữa doanh số và ngân sách quảng cáo."
      ]
    },
    {
      "cell_type": "markdown",
      "metadata": {
        "id": "mIhX0sSocWDI"
      },
      "source": [
        "#2. Mối liên hệ này chặt chẽ cỡ nào?\n",
        "\n",
        "\n",
        "*   Sử dụng hệ số xác định *R* để kiểm tra"
      ]
    },
    {
      "cell_type": "code",
      "metadata": {
        "id": "F-0C7vprcQ5q",
        "colab": {
          "base_uri": "https://localhost:8080/"
        },
        "outputId": "f8afc76a-c239-4947-da2a-80bd043897f2"
      },
      "source": [
        "model.r_squared"
      ],
      "execution_count": null,
      "outputs": [
        {
          "output_type": "execute_result",
          "data": {
            "text/plain": [
              "0.8972106381789522"
            ]
          },
          "metadata": {
            "tags": []
          },
          "execution_count": 9
        }
      ]
    },
    {
      "cell_type": "markdown",
      "metadata": {
        "id": "XmGmqNx3Tg9Q"
      },
      "source": [
        "Hệ số xác định R = 0.897 là con số khá cao, chứng tỏ mối liên hệ này khá chặt chẽ"
      ]
    },
    {
      "cell_type": "markdown",
      "metadata": {
        "id": "W74GhgQOcp68"
      },
      "source": [
        "#3. Kênh quảng cáo nào đóng góp vào doanh số?\n",
        "\n",
        "\n",
        "*   Sử dụng phương pháp ***stepwise*** để lựa chọn những kênh quảng cáo đóng góp vào doanh số."
      ]
    },
    {
      "cell_type": "code",
      "metadata": {
        "id": "8JfBWUOGdGsJ",
        "colab": {
          "base_uri": "https://localhost:8080/",
          "height": 168
        },
        "outputId": "c949f1e1-75f7-4031-cfdc-7eff1305c5e3"
      },
      "source": [
        "X1 = data[['TV', 'Radio', 'Newspaper']]\n",
        "X1 = sm.add_constant(X1) \n",
        "y = data['Sales']\n",
        "model1 = Linear_Model(X1, y)\n",
        "model1.summary"
      ],
      "execution_count": null,
      "outputs": [
        {
          "output_type": "execute_result",
          "data": {
            "text/html": [
              "<div>\n",
              "<style scoped>\n",
              "    .dataframe tbody tr th:only-of-type {\n",
              "        vertical-align: middle;\n",
              "    }\n",
              "\n",
              "    .dataframe tbody tr th {\n",
              "        vertical-align: top;\n",
              "    }\n",
              "\n",
              "    .dataframe thead th {\n",
              "        text-align: right;\n",
              "    }\n",
              "</style>\n",
              "<table border=\"1\" class=\"dataframe\">\n",
              "  <thead>\n",
              "    <tr style=\"text-align: right;\">\n",
              "      <th></th>\n",
              "      <th>feature</th>\n",
              "      <th>coefficients</th>\n",
              "      <th>standard_error</th>\n",
              "      <th>t-statistic</th>\n",
              "      <th>P&gt;|t|</th>\n",
              "      <th>[0.025</th>\n",
              "      <th>0.975]</th>\n",
              "    </tr>\n",
              "  </thead>\n",
              "  <tbody>\n",
              "    <tr>\n",
              "      <th>0</th>\n",
              "      <td>const</td>\n",
              "      <td>2.938889</td>\n",
              "      <td>0.311908</td>\n",
              "      <td>9.422288</td>\n",
              "      <td>0.000000</td>\n",
              "      <td>1.948421</td>\n",
              "      <td>3.929358</td>\n",
              "    </tr>\n",
              "    <tr>\n",
              "      <th>1</th>\n",
              "      <td>TV</td>\n",
              "      <td>0.045765</td>\n",
              "      <td>0.001395</td>\n",
              "      <td>32.808624</td>\n",
              "      <td>0.000000</td>\n",
              "      <td>0.041335</td>\n",
              "      <td>0.050194</td>\n",
              "    </tr>\n",
              "    <tr>\n",
              "      <th>2</th>\n",
              "      <td>Radio</td>\n",
              "      <td>0.188530</td>\n",
              "      <td>0.008611</td>\n",
              "      <td>21.893496</td>\n",
              "      <td>0.000000</td>\n",
              "      <td>0.161185</td>\n",
              "      <td>0.215875</td>\n",
              "    </tr>\n",
              "    <tr>\n",
              "      <th>3</th>\n",
              "      <td>Newspaper</td>\n",
              "      <td>-0.001037</td>\n",
              "      <td>0.005871</td>\n",
              "      <td>-0.176715</td>\n",
              "      <td>0.301033</td>\n",
              "      <td>-0.019681</td>\n",
              "      <td>0.017606</td>\n",
              "    </tr>\n",
              "  </tbody>\n",
              "</table>\n",
              "</div>"
            ],
            "text/plain": [
              "     feature  coefficients  standard_error  ...     P>|t|    [0.025    0.975]\n",
              "0      const      2.938889        0.311908  ...  0.000000  1.948421  3.929358\n",
              "1         TV      0.045765        0.001395  ...  0.000000  0.041335  0.050194\n",
              "2      Radio      0.188530        0.008611  ...  0.000000  0.161185  0.215875\n",
              "3  Newspaper     -0.001037        0.005871  ...  0.301033 -0.019681  0.017606\n",
              "\n",
              "[4 rows x 7 columns]"
            ]
          },
          "metadata": {
            "tags": []
          },
          "execution_count": 10
        }
      ]
    },
    {
      "cell_type": "code",
      "metadata": {
        "id": "x8wQARm-duhJ",
        "colab": {
          "base_uri": "https://localhost:8080/"
        },
        "outputId": "1867628a-47d6-422e-d6dd-0489f9ef6f06"
      },
      "source": [
        "model1.r_squared"
      ],
      "execution_count": null,
      "outputs": [
        {
          "output_type": "execute_result",
          "data": {
            "text/plain": [
              "0.8972106381789522"
            ]
          },
          "metadata": {
            "tags": []
          },
          "execution_count": 11
        }
      ]
    },
    {
      "cell_type": "markdown",
      "metadata": {
        "id": "RaOzQI2APNAW"
      },
      "source": [
        "Vì p-value của Newspaper rất lớn nên ta sẽ loại Newspaper ra khỏi mô hình, vì vậy chỉ có **TV** và **Radio** có đóng góp vào doanh số."
      ]
    },
    {
      "cell_type": "markdown",
      "metadata": {
        "id": "xG-Fvq0ae7zu"
      },
      "source": [
        "#4. Liệu có ảnh hưởng cộng năng giữa các kênh quảng cáo hay không?\n",
        "\n",
        "\n",
        "*   Như ta đã thấy chỉ có biến **TV** và **Radio** có mối liên hệ giữa với **Sales**.\n",
        "*   Ta sẽ xây dựng biến thứ 3 bằng cách lấy **TVxRadio** để thể hiện sự công năng của 2 kênh này."
      ]
    },
    {
      "cell_type": "code",
      "metadata": {
        "id": "OuIjIuwOe3gC",
        "colab": {
          "base_uri": "https://localhost:8080/",
          "height": 168
        },
        "outputId": "16db62b4-09c5-4f3e-89d0-0e36f59c963e"
      },
      "source": [
        "X = data[['TV', 'Radio']]\n",
        "X['TVxRadio'] = X['TV']*X['Radio']\n",
        "X = sm.add_constant(X)\n",
        "y = data['Sales']\n",
        "model = Linear_Model(X,y)\n",
        "model.summary"
      ],
      "execution_count": null,
      "outputs": [
        {
          "output_type": "execute_result",
          "data": {
            "text/html": [
              "<div>\n",
              "<style scoped>\n",
              "    .dataframe tbody tr th:only-of-type {\n",
              "        vertical-align: middle;\n",
              "    }\n",
              "\n",
              "    .dataframe tbody tr th {\n",
              "        vertical-align: top;\n",
              "    }\n",
              "\n",
              "    .dataframe thead th {\n",
              "        text-align: right;\n",
              "    }\n",
              "</style>\n",
              "<table border=\"1\" class=\"dataframe\">\n",
              "  <thead>\n",
              "    <tr style=\"text-align: right;\">\n",
              "      <th></th>\n",
              "      <th>feature</th>\n",
              "      <th>coefficients</th>\n",
              "      <th>standard_error</th>\n",
              "      <th>t-statistic</th>\n",
              "      <th>P&gt;|t|</th>\n",
              "      <th>[0.025</th>\n",
              "      <th>0.975]</th>\n",
              "    </tr>\n",
              "  </thead>\n",
              "  <tbody>\n",
              "    <tr>\n",
              "      <th>0</th>\n",
              "      <td>const</td>\n",
              "      <td>6.750220</td>\n",
              "      <td>0.247871</td>\n",
              "      <td>27.232755</td>\n",
              "      <td>0.000000e+00</td>\n",
              "      <td>5.963102</td>\n",
              "      <td>7.537339</td>\n",
              "    </tr>\n",
              "    <tr>\n",
              "      <th>1</th>\n",
              "      <td>TV</td>\n",
              "      <td>0.019101</td>\n",
              "      <td>0.001504</td>\n",
              "      <td>12.698953</td>\n",
              "      <td>0.000000e+00</td>\n",
              "      <td>0.014325</td>\n",
              "      <td>0.023878</td>\n",
              "    </tr>\n",
              "    <tr>\n",
              "      <th>2</th>\n",
              "      <td>Radio</td>\n",
              "      <td>0.028860</td>\n",
              "      <td>0.008905</td>\n",
              "      <td>3.240815</td>\n",
              "      <td>9.633934e-08</td>\n",
              "      <td>0.000582</td>\n",
              "      <td>0.057139</td>\n",
              "    </tr>\n",
              "    <tr>\n",
              "      <th>3</th>\n",
              "      <td>TVxRadio</td>\n",
              "      <td>0.001086</td>\n",
              "      <td>0.000052</td>\n",
              "      <td>20.726564</td>\n",
              "      <td>0.000000e+00</td>\n",
              "      <td>0.000920</td>\n",
              "      <td>0.001253</td>\n",
              "    </tr>\n",
              "  </tbody>\n",
              "</table>\n",
              "</div>"
            ],
            "text/plain": [
              "    feature  coefficients  standard_error  ...         P>|t|    [0.025    0.975]\n",
              "0     const      6.750220        0.247871  ...  0.000000e+00  5.963102  7.537339\n",
              "1        TV      0.019101        0.001504  ...  0.000000e+00  0.014325  0.023878\n",
              "2     Radio      0.028860        0.008905  ...  9.633934e-08  0.000582  0.057139\n",
              "3  TVxRadio      0.001086        0.000052  ...  0.000000e+00  0.000920  0.001253\n",
              "\n",
              "[4 rows x 7 columns]"
            ]
          },
          "metadata": {
            "tags": []
          },
          "execution_count": 14
        }
      ]
    },
    {
      "cell_type": "code",
      "metadata": {
        "id": "iTAyqXYTgOOP",
        "colab": {
          "base_uri": "https://localhost:8080/"
        },
        "outputId": "c89fdfdc-902b-4751-8bc1-3769f993c7f4"
      },
      "source": [
        "model.r_squared"
      ],
      "execution_count": null,
      "outputs": [
        {
          "output_type": "execute_result",
          "data": {
            "text/plain": [
              "0.9677905498482523"
            ]
          },
          "metadata": {
            "tags": []
          },
          "execution_count": 15
        }
      ]
    },
    {
      "cell_type": "markdown",
      "metadata": {
        "id": "R2TqaXsnPs2N"
      },
      "source": [
        "Ta có thể thấy, độ chính xác của mô hình đã tăng lên đáng kể, từ 0.897 lên 0.968. Vì vậy, có sự cộng năng giữa **TV** và **Radio**, tức là 2 kênh quảng cáo này bổ trợ cho nhau giúp truyền thông tốt hơn."
      ]
    },
    {
      "cell_type": "markdown",
      "metadata": {
        "id": "g-4znK98gdw8"
      },
      "source": [
        "## II. Kiểm tra sự phù hợp của mô hình\n",
        "\n",
        "\n",
        "1.   Tiêu chuẩn ***Student***.\n",
        "2.   Khảo sát đồ thị phần dư + xác định các ***Outlier***.\n",
        "3.   Kiểm định tính không tương quan của phần dư theo thời gian.\n",
        "4.   Xác định các điểm ***Leverage***\n"
      ]
    },
    {
      "cell_type": "markdown",
      "metadata": {
        "id": "fQS9PpNvjaGt"
      },
      "source": [
        "#1. Tiêu chuẩn ***Student***\n",
        "\n",
        "\n"
      ]
    },
    {
      "cell_type": "code",
      "metadata": {
        "id": "rBVWYh2tDh4q",
        "colab": {
          "base_uri": "https://localhost:8080/"
        },
        "outputId": "d4444fa3-5c5b-4e45-e74c-a450650130c6"
      },
      "source": [
        "model.t_test() #False tuc la khong the bac bo phan du tuan theo phan phoi chuan"
      ],
      "execution_count": null,
      "outputs": [
        {
          "output_type": "execute_result",
          "data": {
            "text/plain": [
              "False"
            ]
          },
          "metadata": {
            "tags": []
          },
          "execution_count": 16
        }
      ]
    },
    {
      "cell_type": "markdown",
      "metadata": {
        "id": "4TEMdjxmUVVW"
      },
      "source": [
        "Vậy ta không thể bác bỏ phần dư tuân theo phân phối chuẩn."
      ]
    },
    {
      "cell_type": "markdown",
      "metadata": {
        "id": "aTHO-11NnVvN"
      },
      "source": [
        "#2.   Khảo sát đồ thị phần dư + xác định các ***Outlier***.\n",
        "* Ta sẽ sử dụng công thức Standardlized để chuẩn hóa phàn dư của tất cả các quan sát thành thành mẫu có trung bình là 0 và độ lệch chuẩn là 1. Sau đó loại bỏ những quan sát có trị tuyệt đối phần dư được chuẩn hóa > 3"
      ]
    },
    {
      "cell_type": "code",
      "metadata": {
        "id": "PTtPMDbenJFm"
      },
      "source": [
        "y_pred = model.predict(X)\n",
        "residuals = np.array(y - y_pred)\n",
        "# Estimate variance (externalised)\n",
        "σi_est = []\n",
        "for i in range(X.shape[0]):\n",
        "    # exclude ith observation from estimation of variance\n",
        "    external_residuals = np.delete(residuals, i)\n",
        "    σi_est += [np.sqrt((1 / (X.shape[0] - X.shape[1])) * np.sum(np.square(external_residuals)))]\n",
        "σi_est = np.array(σi_est)\n",
        "t_stat = residuals / σi_est"
      ],
      "execution_count": null,
      "outputs": []
    },
    {
      "cell_type": "code",
      "metadata": {
        "id": "Dk-l5asbrNjQ",
        "colab": {
          "base_uri": "https://localhost:8080/",
          "height": 313
        },
        "outputId": "44cfa54e-4165-49b4-8b9c-69edbc5d5169"
      },
      "source": [
        "ax = sns.regplot(x=y_pred, y=t_stat, lowess=True)\n",
        "plt.xlabel('Fitted values')\n",
        "plt.ylabel('Studentised residuals')\n",
        "plt.title('Externally studentised residual plot', fontweight='bold')\n",
        "ax.axhline(y=3, color='r', linestyle='dashed')\n",
        "ax.axhline(y=-3, color='r', linestyle='dashed')"
      ],
      "execution_count": null,
      "outputs": [
        {
          "output_type": "execute_result",
          "data": {
            "text/plain": [
              "<matplotlib.lines.Line2D at 0x7fe4936a3f10>"
            ]
          },
          "metadata": {
            "tags": []
          },
          "execution_count": 18
        },
        {
          "output_type": "display_data",
          "data": {
            "image/png": "[encoded data removed]",
            "text/plain": [
              "<Figure size 432x288 with 1 Axes>"
            ]
          },
          "metadata": {
            "tags": [],
            "needs_background": "light"
          }
        }
      ]
    },
    {
      "cell_type": "markdown",
      "metadata": {
        "id": "KIl0JFIZSJBI"
      },
      "source": [
        "Ta có thể thấy dữ liệu của chúng ta có 2 điểm Outlier. Chúng ta sẽ  lưu 2 điểm này vào drop_list để sau này *xóa* 2 điểm này khỏi dữ liệu."
      ]
    },
    {
      "cell_type": "code",
      "metadata": {
        "id": "959Jz88Kr3lW"
      },
      "source": [
        "drop_list = []\n",
        "for i in range(len(t_stat)-1):\n",
        "  if abs(t_stat[i]) > 3:\n",
        "    drop_list.append(i)"
      ],
      "execution_count": null,
      "outputs": []
    },
    {
      "cell_type": "markdown",
      "metadata": {
        "id": "op9PjKy-pqO5"
      },
      "source": [
        "#3.   Kiểm định tính không tương quan của phần dư theo thời gian."
      ]
    },
    {
      "cell_type": "code",
      "metadata": {
        "id": "nNxPu8fBxSHs",
        "colab": {
          "base_uri": "https://localhost:8080/"
        },
        "outputId": "93ed65e6-9a91-4af0-c4cc-2bd48d3c8b6c"
      },
      "source": [
        "DW = dw(residuals)\n",
        "print(DW)"
      ],
      "execution_count": null,
      "outputs": [
        {
          "output_type": "stream",
          "text": [
            "2.2236287420696197\n"
          ],
          "name": "stdout"
        }
      ]
    },
    {
      "cell_type": "markdown",
      "metadata": {
        "id": "JfCr1Fvpo596"
      },
      "source": [
        "*  Ta có d1(3, 200, 0.05)= 1.738, d2(3, 200, 0.05)= 1.799\n",
        "*  Vì DW = 2.224 nên DW thuộc khoảng (4-d2, 4-d1) = (2.201, 2.262) nên không thể kết luận được"
      ]
    },
    {
      "cell_type": "markdown",
      "metadata": {
        "id": "wLvYNLjfpw97"
      },
      "source": [
        "#4. Xác định các điểm ***Leverage***"
      ]
    },
    {
      "cell_type": "markdown",
      "metadata": {
        "id": "bIuaBlSsQYhA"
      },
      "source": [
        "\n",
        "\n",
        "*   Vì trung bình leverage của tất cả các quan sát là (p+1)/n với p là số biến dự đoán, n là số lượng quan sát. Ta sẽ sử dụng công thức Standardlized để chuẩn hóa Leverage của tất cả các quan sát thành thành mẫu có trung bình là 0 và độ lệch chuẩn là 1. Sau đó loại bỏ những quan sát có trị tuyệt đối Leverage được chuẩn hóa > 2.75\n",
        "\n"
      ]
    },
    {
      "cell_type": "code",
      "metadata": {
        "id": "DV5RBWVzt5V0"
      },
      "source": [
        "#leverage\n",
        "H = np.array(np.array(X @ np.linalg.inv(X.T @ X)) @ X.T)\n",
        "h_ii = H.diagonal()\n",
        "lσi_est = []\n",
        "for i in range(X.shape[0]):\n",
        "    # exclude ith observation from estimation of variance\n",
        "    external_leverage = np.delete(h_ii, i)\n",
        "    lσi_est += [np.sqrt((1 / (X.shape[0] - X.shape[1])) * np.sum(np.square(external_leverage)))]\n",
        "lσi_est = np.array(lσi_est)\n",
        "\n",
        "# Externally studentised leverage\n",
        "student_leverage = (h_ii-X.shape[1]/X.shape[0]) / lσi_est * np.sqrt(1 - h_ii)"
      ],
      "execution_count": null,
      "outputs": []
    },
    {
      "cell_type": "code",
      "metadata": {
        "id": "fDKTuIbquunF",
        "colab": {
          "base_uri": "https://localhost:8080/",
          "height": 315
        },
        "outputId": "85149697-b165-4735-b26c-20254a899504"
      },
      "source": [
        "ax = sns.regplot(x=np.arange(200), y=student_leverage, lowess=True)\n",
        "plt.xlabel('X_order')\n",
        "plt.ylabel('Studentised residuals')\n",
        "plt.title('Externally studentised residual plot', fontweight='bold')\n",
        "ax.axhline(y=2.75, color='r', linestyle='dashed')\n",
        "ax.axhline(y=-2.75, color='r', linestyle='dashed')"
      ],
      "execution_count": null,
      "outputs": [
        {
          "output_type": "execute_result",
          "data": {
            "text/plain": [
              "<matplotlib.lines.Line2D at 0x7fe4936a3cd0>"
            ]
          },
          "metadata": {
            "tags": []
          },
          "execution_count": 22
        },
        {
          "output_type": "display_data",
          "data": {
            "image/png": "[encoded data removed]",
            "text/plain": [
              "<Figure size 432x288 with 1 Axes>"
            ]
          },
          "metadata": {
            "tags": [],
            "needs_background": "light"
          }
        }
      ]
    },
    {
      "cell_type": "markdown",
      "metadata": {
        "id": "7KGn9i-aR_jy"
      },
      "source": [
        "* Ta có thể thấy dữ liệu không có điểm nào là điểm Leverage. Ta sẽ xóa 2 outlier nằm trong drop_lít"
      ]
    },
    {
      "cell_type": "code",
      "metadata": {
        "id": "Wki_C6HerXdc",
        "colab": {
          "base_uri": "https://localhost:8080/"
        },
        "outputId": "40c4aa18-4642-454b-8604-4ed6b7360d99"
      },
      "source": [
        "X.drop(drop_list, inplace=True)\n",
        "y.drop(drop_list, inplace=True)"
      ],
      "execution_count": null,
      "outputs": [
        {
          "output_type": "execute_result",
          "data": {
            "text/plain": [
              "(198, 4)"
            ]
          },
          "metadata": {
            "tags": []
          },
          "execution_count": 24
        }
      ]
    },
    {
      "cell_type": "markdown",
      "metadata": {
        "id": "ZV6F-nuPqQg-"
      },
      "source": [
        "#III. Xây dựng mô hình cuối cùng\n",
        "\n",
        "\n",
        "1.   Ước lượng hệ số hồi quy và khoảng tin cậy của chúng.\n",
        "2.   Xác định hệ số R\n",
        "3.   Ước lượng hàm HQTT\n",
        "\n"
      ]
    },
    {
      "cell_type": "markdown",
      "metadata": {
        "id": "bRkaLxoprQhJ"
      },
      "source": [
        "#1.   Ước lượng hệ số hồi quy và khoảng tin cậy của chúng."
      ]
    },
    {
      "cell_type": "code",
      "metadata": {
        "id": "yW2a3U10rgJr",
        "colab": {
          "base_uri": "https://localhost:8080/",
          "height": 168
        },
        "outputId": "c63a9e5d-c3a3-4ba3-f931-a7b79e4608a6"
      },
      "source": [
        "model = Linear_Model(X,y)\n",
        "model.summary"
      ],
      "execution_count": null,
      "outputs": [
        {
          "output_type": "execute_result",
          "data": {
            "text/html": [
              "<div>\n",
              "<style scoped>\n",
              "    .dataframe tbody tr th:only-of-type {\n",
              "        vertical-align: middle;\n",
              "    }\n",
              "\n",
              "    .dataframe tbody tr th {\n",
              "        vertical-align: top;\n",
              "    }\n",
              "\n",
              "    .dataframe thead th {\n",
              "        text-align: right;\n",
              "    }\n",
              "</style>\n",
              "<table border=\"1\" class=\"dataframe\">\n",
              "  <thead>\n",
              "    <tr style=\"text-align: right;\">\n",
              "      <th></th>\n",
              "      <th>feature</th>\n",
              "      <th>coefficients</th>\n",
              "      <th>standard_error</th>\n",
              "      <th>t-statistic</th>\n",
              "      <th>P&gt;|t|</th>\n",
              "      <th>[0.025</th>\n",
              "      <th>0.975]</th>\n",
              "    </tr>\n",
              "  </thead>\n",
              "  <tbody>\n",
              "    <tr>\n",
              "      <th>0</th>\n",
              "      <td>const</td>\n",
              "      <td>6.840642</td>\n",
              "      <td>0.206104</td>\n",
              "      <td>33.190318</td>\n",
              "      <td>0.000000e+00</td>\n",
              "      <td>6.186126</td>\n",
              "      <td>7.495157</td>\n",
              "    </tr>\n",
              "    <tr>\n",
              "      <th>1</th>\n",
              "      <td>TV</td>\n",
              "      <td>0.018597</td>\n",
              "      <td>0.001246</td>\n",
              "      <td>14.928898</td>\n",
              "      <td>0.000000e+00</td>\n",
              "      <td>0.014641</td>\n",
              "      <td>0.022552</td>\n",
              "    </tr>\n",
              "    <tr>\n",
              "      <th>2</th>\n",
              "      <td>Radio</td>\n",
              "      <td>0.034022</td>\n",
              "      <td>0.007422</td>\n",
              "      <td>4.583877</td>\n",
              "      <td>3.432350e-10</td>\n",
              "      <td>0.010452</td>\n",
              "      <td>0.057591</td>\n",
              "    </tr>\n",
              "    <tr>\n",
              "      <th>3</th>\n",
              "      <td>TVxRadio</td>\n",
              "      <td>0.001063</td>\n",
              "      <td>0.000043</td>\n",
              "      <td>24.445089</td>\n",
              "      <td>0.000000e+00</td>\n",
              "      <td>0.000925</td>\n",
              "      <td>0.001201</td>\n",
              "    </tr>\n",
              "  </tbody>\n",
              "</table>\n",
              "</div>"
            ],
            "text/plain": [
              "    feature  coefficients  standard_error  ...         P>|t|    [0.025    0.975]\n",
              "0     const      6.840642        0.206104  ...  0.000000e+00  6.186126  7.495157\n",
              "1        TV      0.018597        0.001246  ...  0.000000e+00  0.014641  0.022552\n",
              "2     Radio      0.034022        0.007422  ...  3.432350e-10  0.010452  0.057591\n",
              "3  TVxRadio      0.001063        0.000043  ...  0.000000e+00  0.000925  0.001201\n",
              "\n",
              "[4 rows x 7 columns]"
            ]
          },
          "metadata": {
            "tags": []
          },
          "execution_count": 26
        }
      ]
    },
    {
      "cell_type": "markdown",
      "metadata": {
        "id": "jG-Q8n7Vrnug"
      },
      "source": [
        "#2.   Xác định hệ số R"
      ]
    },
    {
      "cell_type": "code",
      "metadata": {
        "id": "kjvV-HSnrpxQ",
        "colab": {
          "base_uri": "https://localhost:8080/"
        },
        "outputId": "7ebdd204-8609-448b-a727-56df4e18b917"
      },
      "source": [
        "model.r_squared"
      ],
      "execution_count": null,
      "outputs": [
        {
          "output_type": "execute_result",
          "data": {
            "text/plain": [
              "0.9774918671223143"
            ]
          },
          "metadata": {
            "tags": []
          },
          "execution_count": 27
        }
      ]
    },
    {
      "cell_type": "markdown",
      "metadata": {
        "id": "zDA6LYdtsfkn"
      },
      "source": [
        "#3.   Ước lượng hàm HQTT"
      ]
    },
    {
      "cell_type": "code",
      "metadata": {
        "id": "nIbt4_eBzXsX",
        "colab": {
          "base_uri": "https://localhost:8080/",
          "height": 407
        },
        "outputId": "ea22127d-75bb-44b5-d526-971db5f3eef5"
      },
      "source": [
        "#Ước lượng HQTT\n",
        "interval = []\n",
        "y_pred = model.predict(X)\n",
        "XT_X_inv = np.linalg.inv(X.T @ X)\n",
        "sigma_hat = np.sum(np.square(y_pred-y))/(X.shape[0]-X.shape[1])\n",
        "for i in range(len(X)):\n",
        "  X0 = np.array(X.values[i])\n",
        "  interval.append(t.ppf(1-0.025, (X.shape[0]-X.shape[1]))* np.sqrt(sigma_hat*(np.array(X0 @ XT_X_inv) @ X0)))\n",
        "predict_interval = pd.DataFrame()\n",
        "predict_interval['predict'] = y_pred\n",
        "predict_interval['[0.025'] = y_pred - interval\n",
        "predict_interval['0.975]'] = y_pred + interval\n",
        "predict_interval"
      ],
      "execution_count": null,
      "outputs": [
        {
          "output_type": "execute_result",
          "data": {
            "text/html": [
              "<div>\n",
              "<style scoped>\n",
              "    .dataframe tbody tr th:only-of-type {\n",
              "        vertical-align: middle;\n",
              "    }\n",
              "\n",
              "    .dataframe tbody tr th {\n",
              "        vertical-align: top;\n",
              "    }\n",
              "\n",
              "    .dataframe thead th {\n",
              "        text-align: right;\n",
              "    }\n",
              "</style>\n",
              "<table border=\"1\" class=\"dataframe\">\n",
              "  <thead>\n",
              "    <tr style=\"text-align: right;\">\n",
              "      <th></th>\n",
              "      <th>predict</th>\n",
              "      <th>[0.025</th>\n",
              "      <th>0.975]</th>\n",
              "    </tr>\n",
              "  </thead>\n",
              "  <tbody>\n",
              "    <tr>\n",
              "      <th>0</th>\n",
              "      <td>21.650619</td>\n",
              "      <td>21.449677</td>\n",
              "      <td>21.851560</td>\n",
              "    </tr>\n",
              "    <tr>\n",
              "      <th>1</th>\n",
              "      <td>10.864092</td>\n",
              "      <td>10.611038</td>\n",
              "      <td>11.117145</td>\n",
              "    </tr>\n",
              "    <tr>\n",
              "      <th>2</th>\n",
              "      <td>9.561230</td>\n",
              "      <td>9.198725</td>\n",
              "      <td>9.923735</td>\n",
              "    </tr>\n",
              "    <tr>\n",
              "      <th>3</th>\n",
              "      <td>17.713639</td>\n",
              "      <td>17.542887</td>\n",
              "      <td>17.884392</td>\n",
              "    </tr>\n",
              "    <tr>\n",
              "      <th>4</th>\n",
              "      <td>12.645797</td>\n",
              "      <td>12.490294</td>\n",
              "      <td>12.801299</td>\n",
              "    </tr>\n",
              "    <tr>\n",
              "      <th>...</th>\n",
              "      <td>...</td>\n",
              "      <td>...</td>\n",
              "      <td>...</td>\n",
              "    </tr>\n",
              "    <tr>\n",
              "      <th>195</th>\n",
              "      <td>7.827140</td>\n",
              "      <td>7.534923</td>\n",
              "      <td>8.119357</td>\n",
              "    </tr>\n",
              "    <tr>\n",
              "      <th>196</th>\n",
              "      <td>9.249756</td>\n",
              "      <td>9.048570</td>\n",
              "      <td>9.450942</td>\n",
              "    </tr>\n",
              "    <tr>\n",
              "      <th>197</th>\n",
              "      <td>12.198275</td>\n",
              "      <td>12.037475</td>\n",
              "      <td>12.359075</td>\n",
              "    </tr>\n",
              "    <tr>\n",
              "      <th>198</th>\n",
              "      <td>26.203979</td>\n",
              "      <td>25.892829</td>\n",
              "      <td>26.515129</td>\n",
              "    </tr>\n",
              "    <tr>\n",
              "      <th>199</th>\n",
              "      <td>13.571103</td>\n",
              "      <td>13.346151</td>\n",
              "      <td>13.796055</td>\n",
              "    </tr>\n",
              "  </tbody>\n",
              "</table>\n",
              "<p>198 rows × 3 columns</p>\n",
              "</div>"
            ],
            "text/plain": [
              "       predict     [0.025     0.975]\n",
              "0    21.650619  21.449677  21.851560\n",
              "1    10.864092  10.611038  11.117145\n",
              "2     9.561230   9.198725   9.923735\n",
              "3    17.713639  17.542887  17.884392\n",
              "4    12.645797  12.490294  12.801299\n",
              "..         ...        ...        ...\n",
              "195   7.827140   7.534923   8.119357\n",
              "196   9.249756   9.048570   9.450942\n",
              "197  12.198275  12.037475  12.359075\n",
              "198  26.203979  25.892829  26.515129\n",
              "199  13.571103  13.346151  13.796055\n",
              "\n",
              "[198 rows x 3 columns]"
            ]
          },
          "metadata": {
            "tags": []
          },
          "execution_count": 28
        }
      ]
    }
  ]
}